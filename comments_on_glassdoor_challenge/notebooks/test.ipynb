{
 "cells": [
  {
   "cell_type": "markdown",
   "id": "e0181269-2a64-4f21-9b50-30be60bd66d9",
   "metadata": {},
   "source": [
    "# Glassdoor comments analysis\n",
    "This large dataset contains job descriptions and rankings among various criteria such as work-life balance, income, culture, etc. The data covers the various industries in the UK. Great dataset for multidimensional sentiment analysis.\n",
    "\n",
    "link: https://www.kaggle.com/datasets/davidgauthier/glassdoor-job-reviews\n",
    "\n",
    "Ranking for the recommendation of the firm, CEO approval, and outlook are allocated categories v, r, x, and o, with the following meanings:\n",
    "+ v - Positive\n",
    "+ r - Mild\n",
    "+ x - Negative\n",
    "+ o - No opinion\n",
    "\n",
    "I will start setting up the environment by adding the /src/ path."
   ]
  },
  {
   "cell_type": "code",
   "execution_count": 1,
   "id": "c3b6d0e0-d748-4d8e-b677-9796e47df4c3",
   "metadata": {},
   "outputs": [
    {
     "name": "stdout",
     "output_type": "stream",
     "text": [
      "Path added to system.\n"
     ]
    }
   ],
   "source": [
    "import os\n",
    "import sys\n",
    "\n",
    "src_path = os.path.abspath('../src')\n",
    "if src_path not in sys.path:\n",
    "    sys.path.append(src_path)\n",
    "    print('Path added to system.')\n",
    "else:\n",
    "    print('Requirement previously satisfied.')"
   ]
  },
  {
   "cell_type": "code",
   "execution_count": 2,
   "id": "ba9afc74-5905-4002-94e8-667f3514ef74",
   "metadata": {},
   "outputs": [],
   "source": [
    "from preprocessing import *"
   ]
  },
  {
   "cell_type": "code",
   "execution_count": 3,
   "id": "d917601b-09a5-4d1e-8783-d62396821e38",
   "metadata": {},
   "outputs": [
    {
     "name": "stdout",
     "output_type": "stream",
     "text": [
      "Dataset found: ../data/glassdoor_reviews.csv\n",
      "Dataset is loaded.\n",
      "<class 'pandas.core.frame.DataFrame'>\n",
      "RangeIndex: 838566 entries, 0 to 838565\n",
      "Data columns (total 18 columns):\n",
      " #   Column               Non-Null Count   Dtype  \n",
      "---  ------               --------------   -----  \n",
      " 0   firm                 838566 non-null  object \n",
      " 1   date_review          838566 non-null  object \n",
      " 2   job_title            838566 non-null  object \n",
      " 3   current              838566 non-null  object \n",
      " 4   location             541223 non-null  object \n",
      " 5   overall_rating       838566 non-null  int64  \n",
      " 6   work_life_balance    688672 non-null  float64\n",
      " 7   culture_values       647193 non-null  float64\n",
      " 8   diversity_inclusion  136066 non-null  float64\n",
      " 9   career_opp           691065 non-null  float64\n",
      " 10  comp_benefits        688484 non-null  float64\n",
      " 11  senior_mgmt          682690 non-null  float64\n",
      " 12  recommend            838566 non-null  object \n",
      " 13  ceo_approv           838566 non-null  object \n",
      " 14  outlook              838566 non-null  object \n",
      " 15  headline             835976 non-null  object \n",
      " 16  pros                 838564 non-null  object \n",
      " 17  cons                 838553 non-null  object \n",
      "dtypes: float64(6), int64(1), object(11)\n",
      "memory usage: 115.2+ MB\n"
     ]
    }
   ],
   "source": [
    "df = load_dataset()\n",
    "df.info()"
   ]
  },
  {
   "cell_type": "markdown",
   "id": "4b5385c4-cd9f-4578-8a81-2e59ee5ea2e9",
   "metadata": {},
   "source": [
    "___\n",
    "Some interesting data has Nulls:\n",
    "+ overall_rating\n",
    "+ recommend\n",
    "+ headline\n",
    "+ pros\n",
    "+ cons\n",
    "\n",
    "The rows containing Nulls will be removed."
   ]
  },
  {
   "cell_type": "code",
   "execution_count": 4,
   "id": "2bc033fd-6864-4817-bba3-c50224f9446f",
   "metadata": {},
   "outputs": [
    {
     "name": "stdout",
     "output_type": "stream",
     "text": [
      "Rows with empty values were removed from selected columns.\n",
      "<class 'pandas.core.frame.DataFrame'>\n",
      "Index: 835961 entries, 0 to 838565\n",
      "Data columns (total 18 columns):\n",
      " #   Column               Non-Null Count   Dtype  \n",
      "---  ------               --------------   -----  \n",
      " 0   firm                 835961 non-null  object \n",
      " 1   date_review          835961 non-null  object \n",
      " 2   job_title            835961 non-null  object \n",
      " 3   current              835961 non-null  object \n",
      " 4   location             539356 non-null  object \n",
      " 5   overall_rating       835961 non-null  int64  \n",
      " 6   work_life_balance    687174 non-null  float64\n",
      " 7   culture_values       645801 non-null  float64\n",
      " 8   diversity_inclusion  135326 non-null  float64\n",
      " 9   career_opp           689551 non-null  float64\n",
      " 10  comp_benefits        686986 non-null  float64\n",
      " 11  senior_mgmt          681205 non-null  float64\n",
      " 12  recommend            835961 non-null  object \n",
      " 13  ceo_approv           835961 non-null  object \n",
      " 14  outlook              835961 non-null  object \n",
      " 15  headline             835961 non-null  object \n",
      " 16  pros                 835961 non-null  object \n",
      " 17  cons                 835961 non-null  object \n",
      "dtypes: float64(6), int64(1), object(11)\n",
      "memory usage: 121.2+ MB\n"
     ]
    }
   ],
   "source": [
    "columns = ['overall_rating', 'recommend', 'headline', 'pros', 'cons']\n",
    "df = remove_empty_rows(df, columns)\n",
    "df.info()"
   ]
  },
  {
   "cell_type": "markdown",
   "id": "d0ad889f-f4f1-4502-99e5-fb42c7d1863e",
   "metadata": {},
   "source": [
    "___\n",
    "The relationship between the column **overall_rating** and **recommend** will be analyzed using a contigency table and a heat map. It is required to map the **recommend** variable to numeric values as follows:\n",
    "+ v - Positive = +2\n",
    "+ r - Mild = +1\n",
    "+ x - Negative = -2\n",
    "+ o - No opinion = 0"
   ]
  },
  {
   "cell_type": "code",
   "execution_count": 5,
   "id": "a3ff4507-a6ee-4d62-a0ba-3a5b267fedb2",
   "metadata": {},
   "outputs": [
    {
     "name": "stdout",
     "output_type": "stream",
     "text": [
      "Mapping to numeric values for recommend column.\n",
      "Column mapped.\n"
     ]
    }
   ],
   "source": [
    "columns_to_map = ['recommend']\n",
    "df_mapped, name_columns_mapped = rank_mapping(df = df,\n",
    "\t\t\t\t\t\t\t\t\t\t\tcolumns = columns_to_map)"
   ]
  },
  {
   "cell_type": "markdown",
   "id": "6ddba7d5-1d00-48ed-adad-11e7d2e182d0",
   "metadata": {},
   "source": [
    "___\n",
    "Lets see the distribution of the new column **recommend_level**."
   ]
  },
  {
   "cell_type": "code",
   "execution_count": 6,
   "id": "733e7be4-5280-426c-8cbb-bb7b27d64bfa",
   "metadata": {},
   "outputs": [
    {
     "data": {
      "image/png": "[encoded data removed]",
      "text/plain": [
       "<Figure size 600x400 with 1 Axes>"
      ]
     },
     "metadata": {},
     "output_type": "display_data"
    }
   ],
   "source": [
    "import matplotlib.pyplot as plt\n",
    "\n",
    "def bar_distribution_plot(df, column:str=None):\n",
    "    class_counts = df[column].value_counts().sort_index()\n",
    "    plt.figure(figsize=(6, 4))\n",
    "    class_counts.plot(kind='bar', color='skyblue', edgecolor='black')\n",
    "    plt.title(f'{column.title()} Class Distribution')\n",
    "    plt.xlabel('Class')\n",
    "    plt.ylabel('Frequency')\n",
    "    plt.xticks(rotation=0)\n",
    "    plt.grid(axis='y', linestyle='--', alpha=0.7)\n",
    "    plt.tight_layout()\n",
    "    plt.show()\n",
    "\n",
    "bar_distribution_plot(df_mapped, 'recommend_level')"
   ]
  },
  {
   "cell_type": "markdown",
   "id": "75d60cec-d868-4166-95a7-a40078358ac2",
   "metadata": {},
   "source": [
    "___\n",
    "Unfortunately, the column **recommend_level** which is the target (at least in this first approach) is unbalanced.\n",
    "\n",
    "Now, lets see if the column **overall_rating** has a relationship with the column **recommend_level**. To analyze this, a contingency table with heat map will be presented."
   ]
  },
  {
   "cell_type": "code",
   "execution_count": 7,
   "id": "639ca4df-96b8-4fdb-b65c-b7ae4f72607a",
   "metadata": {},
   "outputs": [
    {
     "data": {
      "image/png": "[encoded data removed]",
      "text/plain": [
       "<Figure size 800x500 with 2 Axes>"
      ]
     },
     "metadata": {},
     "output_type": "display_data"
    }
   ],
   "source": [
    "import seaborn as sns\n",
    "\n",
    "contigency_table = pd.crosstab(df_mapped[name_columns_mapped[0]], df_mapped['overall_rating'])\n",
    "\n",
    "plt.figure(figsize=(8,5))\n",
    "sns.heatmap(contigency_table, annot=True, fmt='d', cmap='YlGnBu')\n",
    "plt.show()"
   ]
  },
  {
   "cell_type": "markdown",
   "id": "e779ecf4-e0db-4022-859e-fdb482713e38",
   "metadata": {},
   "source": [
    "___\n",
    "It exists a relatinship between **recommend** and **overall_rating**.\n",
    "\n",
    "But, the value **o** from **recommend** column is useless due to its meaning is *no opinion*. It is not possible to know if there is a positive, negative or neutral opinion. So, the data with **o** value will be removed."
   ]
  },
  {
   "cell_type": "code",
   "execution_count": 8,
   "id": "537f62d2-f80a-454f-86d5-ea3af0574c3b",
   "metadata": {},
   "outputs": [
    {
     "name": "stdout",
     "output_type": "stream",
     "text": [
      "recommend\n",
      "v    426998\n",
      "x    176111\n",
      "Name: count, dtype: int64\n",
      "\n",
      "\n",
      "<class 'pandas.core.frame.DataFrame'>\n",
      "Index: 603109 entries, 0 to 838565\n",
      "Data columns (total 19 columns):\n",
      " #   Column               Non-Null Count   Dtype  \n",
      "---  ------               --------------   -----  \n",
      " 0   firm                 603109 non-null  object \n",
      " 1   date_review          603109 non-null  object \n",
      " 2   job_title            603109 non-null  object \n",
      " 3   current              603109 non-null  object \n",
      " 4   location             432171 non-null  object \n",
      " 5   overall_rating       603109 non-null  int64  \n",
      " 6   work_life_balance    583730 non-null  float64\n",
      " 7   culture_values       554779 non-null  float64\n",
      " 8   diversity_inclusion  110851 non-null  float64\n",
      " 9   career_opp           583462 non-null  float64\n",
      " 10  comp_benefits        583188 non-null  float64\n",
      " 11  senior_mgmt          580431 non-null  float64\n",
      " 12  recommend            603109 non-null  object \n",
      " 13  ceo_approv           603109 non-null  object \n",
      " 14  outlook              603109 non-null  object \n",
      " 15  headline             603109 non-null  object \n",
      " 16  pros                 603109 non-null  object \n",
      " 17  cons                 603109 non-null  object \n",
      " 18  recommend_level      603109 non-null  int64  \n",
      "dtypes: float64(6), int64(2), object(11)\n",
      "memory usage: 92.0+ MB\n",
      "None\n"
     ]
    }
   ],
   "source": [
    "df_mapped = df_mapped[df_mapped['recommend'] != 'o']\n",
    "print(df_mapped['recommend'].value_counts())\n",
    "print('\\n')\n",
    "print(df_mapped.info())"
   ]
  },
  {
   "cell_type": "markdown",
   "id": "5c047618-ec5a-450f-9639-277d59284d10",
   "metadata": {},
   "source": [
    "___\n",
    "Now, lets clean the current data.\n",
    "The objective is to remove the next information for the *corpus* columns (headline, pros, cons):\n",
    "+ Capital letters.\n",
    "+ Numbers in text.\n",
    "+ Puntuation marks.\n",
    "+ Extra spaces."
   ]
  },
  {
   "cell_type": "code",
   "execution_count": 9,
   "id": "f0e56b1f-f1c6-4230-ba05-c02e76a1438a",
   "metadata": {},
   "outputs": [
    {
     "name": "stdout",
     "output_type": "stream",
     "text": [
      "Cleaning process for headline.\n",
      "Capital letters removed.\n",
      "Numbers in text removed.\n",
      "Punctuation removed.\n",
      "Extra spaces removed.\n",
      "Cleaning process for pros.\n",
      "Capital letters removed.\n"
     ]
    },
    {
     "name": "stderr",
     "output_type": "stream",
     "text": [
      "/Users/albertosantosmorales/Documents/UdG_MCD/semestre_2/programacion_2/progra2_mcd_challenges/comments_on_glassdoor_challenge/src/preprocessing.py:79: SettingWithCopyWarning: \n",
      "A value is trying to be set on a copy of a slice from a DataFrame.\n",
      "Try using .loc[row_indexer,col_indexer] = value instead\n",
      "\n",
      "See the caveats in the documentation: https://pandas.pydata.org/pandas-docs/stable/user_guide/indexing.html#returning-a-view-versus-a-copy\n",
      "  df[columns_names[-1]] = series\n"
     ]
    },
    {
     "name": "stdout",
     "output_type": "stream",
     "text": [
      "Numbers in text removed.\n",
      "Punctuation removed.\n",
      "Extra spaces removed.\n",
      "Cleaning process for cons.\n",
      "Capital letters removed.\n"
     ]
    },
    {
     "name": "stderr",
     "output_type": "stream",
     "text": [
      "/Users/albertosantosmorales/Documents/UdG_MCD/semestre_2/programacion_2/progra2_mcd_challenges/comments_on_glassdoor_challenge/src/preprocessing.py:79: SettingWithCopyWarning: \n",
      "A value is trying to be set on a copy of a slice from a DataFrame.\n",
      "Try using .loc[row_indexer,col_indexer] = value instead\n",
      "\n",
      "See the caveats in the documentation: https://pandas.pydata.org/pandas-docs/stable/user_guide/indexing.html#returning-a-view-versus-a-copy\n",
      "  df[columns_names[-1]] = series\n"
     ]
    },
    {
     "name": "stdout",
     "output_type": "stream",
     "text": [
      "Numbers in text removed.\n",
      "Punctuation removed.\n",
      "Extra spaces removed.\n"
     ]
    },
    {
     "name": "stderr",
     "output_type": "stream",
     "text": [
      "/Users/albertosantosmorales/Documents/UdG_MCD/semestre_2/programacion_2/progra2_mcd_challenges/comments_on_glassdoor_challenge/src/preprocessing.py:79: SettingWithCopyWarning: \n",
      "A value is trying to be set on a copy of a slice from a DataFrame.\n",
      "Try using .loc[row_indexer,col_indexer] = value instead\n",
      "\n",
      "See the caveats in the documentation: https://pandas.pydata.org/pandas-docs/stable/user_guide/indexing.html#returning-a-view-versus-a-copy\n",
      "  df[columns_names[-1]] = series\n"
     ]
    },
    {
     "data": {
      "text/html": [
       "<div>\n",
       "<style scoped>\n",
       "    .dataframe tbody tr th:only-of-type {\n",
       "        vertical-align: middle;\n",
       "    }\n",
       "\n",
       "    .dataframe tbody tr th {\n",
       "        vertical-align: top;\n",
       "    }\n",
       "\n",
       "    .dataframe thead th {\n",
       "        text-align: right;\n",
       "    }\n",
       "</style>\n",
       "<table border=\"1\" class=\"dataframe\">\n",
       "  <thead>\n",
       "    <tr style=\"text-align: right;\">\n",
       "      <th></th>\n",
       "      <th>headline_cleaned</th>\n",
       "      <th>pros_cleaned</th>\n",
       "      <th>cons_cleaned</th>\n",
       "    </tr>\n",
       "  </thead>\n",
       "  <tbody>\n",
       "    <tr>\n",
       "      <th>0</th>\n",
       "      <td>young colleagues poor micro management</td>\n",
       "      <td>very friendly and welcoming to new staff easy ...</td>\n",
       "      <td>poor salaries poor training and communication</td>\n",
       "    </tr>\n",
       "    <tr>\n",
       "      <th>1</th>\n",
       "      <td>excellent staff poor salary</td>\n",
       "      <td>friendly helpful and hardworking colleagues</td>\n",
       "      <td>poor salary which doesnt improve much with pro...</td>\n",
       "    </tr>\n",
       "    <tr>\n",
       "      <th>2</th>\n",
       "      <td>low salary bad micromanagement</td>\n",
       "      <td>easy to get the job even without experience in...</td>\n",
       "      <td>very low salary poor working conditions very l...</td>\n",
       "    </tr>\n",
       "    <tr>\n",
       "      <th>3</th>\n",
       "      <td>over promised under delivered</td>\n",
       "      <td>nice staff to work with</td>\n",
       "      <td>no career progression and salary is poor</td>\n",
       "    </tr>\n",
       "    <tr>\n",
       "      <th>4</th>\n",
       "      <td>client reporting admin</td>\n",
       "      <td>easy to get the job nice colleagues</td>\n",
       "      <td>abysmal pay around minimum wage no actual trai...</td>\n",
       "    </tr>\n",
       "  </tbody>\n",
       "</table>\n",
       "</div>"
      ],
      "text/plain": [
       "                         headline_cleaned  \\\n",
       "0  young colleagues poor micro management   \n",
       "1             excellent staff poor salary   \n",
       "2          low salary bad micromanagement   \n",
       "3           over promised under delivered   \n",
       "4                  client reporting admin   \n",
       "\n",
       "                                        pros_cleaned  \\\n",
       "0  very friendly and welcoming to new staff easy ...   \n",
       "1        friendly helpful and hardworking colleagues   \n",
       "2  easy to get the job even without experience in...   \n",
       "3                            nice staff to work with   \n",
       "4                easy to get the job nice colleagues   \n",
       "\n",
       "                                        cons_cleaned  \n",
       "0      poor salaries poor training and communication  \n",
       "1  poor salary which doesnt improve much with pro...  \n",
       "2  very low salary poor working conditions very l...  \n",
       "3           no career progression and salary is poor  \n",
       "4  abysmal pay around minimum wage no actual trai...  "
      ]
     },
     "execution_count": 9,
     "metadata": {},
     "output_type": "execute_result"
    }
   ],
   "source": [
    "columns = ['headline', 'pros', 'cons']\n",
    "df_cleaned, name_columns_cleaned = cleanning(df=df_mapped,\n",
    "                                            columns=columns,\n",
    "                                            lower_case=True,\n",
    "                                            remove_numbers=True,\n",
    "                                            remove_punctuation=True,\n",
    "                                            remove_extra_spaces=True)\n",
    "\n",
    "df_cleaned[name_columns_cleaned].head()"
   ]
  },
  {
   "cell_type": "markdown",
   "id": "c10136a2-ee22-4c70-ad3b-2e060bbbe24d",
   "metadata": {},
   "source": [
    "___\n",
    "The next objective is to remove:\n",
    "+ Stop words (like: The, a, in, etc.).\n",
    "+ Lemmatize.\n",
    "+ Merge *headline*, *pros* and *cons* columns."
   ]
  },
  {
   "cell_type": "code",
   "execution_count": 10,
   "id": "77b378bc-95d8-452c-8afe-1bb0525d4be8",
   "metadata": {},
   "outputs": [
    {
     "name": "stdout",
     "output_type": "stream",
     "text": [
      "Stop words remotion process for headline_cleaned.\n"
     ]
    },
    {
     "name": "stderr",
     "output_type": "stream",
     "text": [
      "/Users/albertosantosmorales/Documents/UdG_MCD/semestre_2/programacion_2/progra2_mcd_challenges/comments_on_glassdoor_challenge/src/preprocessing.py:92: SettingWithCopyWarning: \n",
      "A value is trying to be set on a copy of a slice from a DataFrame.\n",
      "Try using .loc[row_indexer,col_indexer] = value instead\n",
      "\n",
      "See the caveats in the documentation: https://pandas.pydata.org/pandas-docs/stable/user_guide/indexing.html#returning-a-view-versus-a-copy\n",
      "  df[columns_names[-1]] = series\n"
     ]
    },
    {
     "name": "stdout",
     "output_type": "stream",
     "text": [
      "Stop words removed.\n",
      "Stop words remotion process for pros_cleaned.\n"
     ]
    },
    {
     "name": "stderr",
     "output_type": "stream",
     "text": [
      "/Users/albertosantosmorales/Documents/UdG_MCD/semestre_2/programacion_2/progra2_mcd_challenges/comments_on_glassdoor_challenge/src/preprocessing.py:92: SettingWithCopyWarning: \n",
      "A value is trying to be set on a copy of a slice from a DataFrame.\n",
      "Try using .loc[row_indexer,col_indexer] = value instead\n",
      "\n",
      "See the caveats in the documentation: https://pandas.pydata.org/pandas-docs/stable/user_guide/indexing.html#returning-a-view-versus-a-copy\n",
      "  df[columns_names[-1]] = series\n"
     ]
    },
    {
     "name": "stdout",
     "output_type": "stream",
     "text": [
      "Stop words removed.\n",
      "Stop words remotion process for cons_cleaned.\n"
     ]
    },
    {
     "name": "stderr",
     "output_type": "stream",
     "text": [
      "/Users/albertosantosmorales/Documents/UdG_MCD/semestre_2/programacion_2/progra2_mcd_challenges/comments_on_glassdoor_challenge/src/preprocessing.py:92: SettingWithCopyWarning: \n",
      "A value is trying to be set on a copy of a slice from a DataFrame.\n",
      "Try using .loc[row_indexer,col_indexer] = value instead\n",
      "\n",
      "See the caveats in the documentation: https://pandas.pydata.org/pandas-docs/stable/user_guide/indexing.html#returning-a-view-versus-a-copy\n",
      "  df[columns_names[-1]] = series\n"
     ]
    },
    {
     "name": "stdout",
     "output_type": "stream",
     "text": [
      "Stop words removed.\n",
      "Lemmatizing process for headline_cleaned_no_stopwords.\n"
     ]
    },
    {
     "name": "stderr",
     "output_type": "stream",
     "text": [
      "/Users/albertosantosmorales/Documents/UdG_MCD/semestre_2/programacion_2/progra2_mcd_challenges/comments_on_glassdoor_challenge/src/preprocessing.py:105: SettingWithCopyWarning: \n",
      "A value is trying to be set on a copy of a slice from a DataFrame.\n",
      "Try using .loc[row_indexer,col_indexer] = value instead\n",
      "\n",
      "See the caveats in the documentation: https://pandas.pydata.org/pandas-docs/stable/user_guide/indexing.html#returning-a-view-versus-a-copy\n",
      "  df[columns_names[-1]] = series\n"
     ]
    },
    {
     "name": "stdout",
     "output_type": "stream",
     "text": [
      "Text lemmatized.\n",
      "Lemmatizing process for pros_cleaned_no_stopwords.\n"
     ]
    },
    {
     "name": "stderr",
     "output_type": "stream",
     "text": [
      "/Users/albertosantosmorales/Documents/UdG_MCD/semestre_2/programacion_2/progra2_mcd_challenges/comments_on_glassdoor_challenge/src/preprocessing.py:105: SettingWithCopyWarning: \n",
      "A value is trying to be set on a copy of a slice from a DataFrame.\n",
      "Try using .loc[row_indexer,col_indexer] = value instead\n",
      "\n",
      "See the caveats in the documentation: https://pandas.pydata.org/pandas-docs/stable/user_guide/indexing.html#returning-a-view-versus-a-copy\n",
      "  df[columns_names[-1]] = series\n"
     ]
    },
    {
     "name": "stdout",
     "output_type": "stream",
     "text": [
      "Text lemmatized.\n",
      "Lemmatizing process for cons_cleaned_no_stopwords.\n"
     ]
    },
    {
     "name": "stderr",
     "output_type": "stream",
     "text": [
      "/Users/albertosantosmorales/Documents/UdG_MCD/semestre_2/programacion_2/progra2_mcd_challenges/comments_on_glassdoor_challenge/src/preprocessing.py:105: SettingWithCopyWarning: \n",
      "A value is trying to be set on a copy of a slice from a DataFrame.\n",
      "Try using .loc[row_indexer,col_indexer] = value instead\n",
      "\n",
      "See the caveats in the documentation: https://pandas.pydata.org/pandas-docs/stable/user_guide/indexing.html#returning-a-view-versus-a-copy\n",
      "  df[columns_names[-1]] = series\n"
     ]
    },
    {
     "name": "stdout",
     "output_type": "stream",
     "text": [
      "Text lemmatized.\n",
      "Columns ['headline_cleaned_no_stopwords_lemmatized', 'pros_cleaned_no_stopwords_lemmatized', 'cons_cleaned_no_stopwords_lemmatized'] merged.\n"
     ]
    },
    {
     "name": "stderr",
     "output_type": "stream",
     "text": [
      "/Users/albertosantosmorales/Documents/UdG_MCD/semestre_2/programacion_2/progra2_mcd_challenges/comments_on_glassdoor_challenge/src/preprocessing.py:110: SettingWithCopyWarning: \n",
      "A value is trying to be set on a copy of a slice from a DataFrame.\n",
      "Try using .loc[row_indexer,col_indexer] = value instead\n",
      "\n",
      "See the caveats in the documentation: https://pandas.pydata.org/pandas-docs/stable/user_guide/indexing.html#returning-a-view-versus-a-copy\n",
      "  df[name_of_column] = df[columns].fillna('').agg(' '.join, axis=1)\n"
     ]
    },
    {
     "data": {
      "text/plain": [
       "0    young colleague poor micro management friendly...\n",
       "1    excellent staff poor salary friendly helpful h...\n",
       "2    low salary bad micromanagement easy get job ev...\n",
       "3    promised delivered nice staff work career prog...\n",
       "4    client reporting admin easy get job nice colle...\n",
       "Name: text_merged_column, dtype: object"
      ]
     },
     "execution_count": 10,
     "metadata": {},
     "output_type": "execute_result"
    }
   ],
   "source": [
    "df_no_stopwords, name_columns_no_stopwords = stopwords_remotion(df = df_cleaned,\n",
    "\t\t\t\t\t\t\t\t\t\t\t\t\t\t\t\tcolumns = name_columns_cleaned) \n",
    "\t\n",
    "df_lemmatized, name_columns_lemmatized = lemmatizing(df = df_no_stopwords,\n",
    "\t\t\t\t\t\t\t\t\t\t\t\t\tcolumns = name_columns_no_stopwords)\n",
    "\n",
    "df_text_merged, name_merged_column = text_columns_merging(df = df_lemmatized,\n",
    "\t\t\t\t\t\t\t\t\t\t\t\t\t\tcolumns=name_columns_lemmatized)\n",
    "\n",
    "df_text_merged[name_merged_column].head()"
   ]
  },
  {
   "cell_type": "markdown",
   "id": "7d593687-ddfc-4550-aa5b-4ada10223222",
   "metadata": {},
   "source": [
    "___\n",
    "The next step is to vectorize the *corpus* using the TFIDF method. The output sparse matrix will be the **X** for the model.\n",
    "Then the **y** definition is performed and the split for training and testing subsets is carried out. "
   ]
  },
  {
   "cell_type": "code",
   "execution_count": 11,
   "id": "6ecca9b6-1a48-4a28-bd30-29b13409b3d3",
   "metadata": {},
   "outputs": [
    {
     "name": "stdout",
     "output_type": "stream",
     "text": [
      "Text vectorized\n"
     ]
    },
    {
     "data": {
      "text/plain": [
       "<603109x140909 sparse matrix of type '<class 'numpy.float64'>'\n",
       "\twith 14148168 stored elements in Compressed Sparse Row format>"
      ]
     },
     "execution_count": 11,
     "metadata": {},
     "output_type": "execute_result"
    }
   ],
   "source": [
    "from model_training import *\n",
    "\n",
    "X = tfidf_vectorizing(df_text_merged[name_merged_column])\n",
    "X"
   ]
  },
  {
   "cell_type": "code",
   "execution_count": 12,
   "id": "4840dc4d-75a3-4d19-9e22-d3735c558697",
   "metadata": {},
   "outputs": [
    {
     "name": "stdout",
     "output_type": "stream",
     "text": [
      "Feature subset for training was built. 422176 samples\n",
      "Feature subset for testing was built. 180933 samples\n",
      "Target subset for training was built. 422176 samples\n",
      "Target subset for testing was built. 180933 samples\n"
     ]
    }
   ],
   "source": [
    "y = df_text_merged['recommend_level']\n",
    "\n",
    "X_train, X_test, y_train, y_test = get_train_test_subsets(X=X, y=y)"
   ]
  },
  {
   "cell_type": "markdown",
   "id": "f0ce1027-3199-48bc-b723-30b9bacd4c5b",
   "metadata": {},
   "source": [
    "___\n",
    "Now, the training needs to be done.\n",
    "As first approach I will use a Logistic Regression model, specifiying that my dataset is unbalanced."
   ]
  },
  {
   "cell_type": "code",
   "execution_count": 13,
   "id": "721b9af3-d623-4e81-83be-2d04eaefc4db",
   "metadata": {},
   "outputs": [
    {
     "name": "stdout",
     "output_type": "stream",
     "text": [
      "Model \"LogisticRegression\" trained.\n"
     ]
    },
    {
     "data": {
      "text/html": [
       "<style>#sk-container-id-1 {\n",
       "  /* Definition of color scheme common for light and dark mode */\n",
       "  --sklearn-color-text: black;\n",
       "  --sklearn-color-line: gray;\n",
       "  /* Definition of color scheme for unfitted estimators */\n",
       "  --sklearn-color-unfitted-level-0: #fff5e6;\n",
       "  --sklearn-color-unfitted-level-1: #f6e4d2;\n",
       "  --sklearn-color-unfitted-level-2: #ffe0b3;\n",
       "  --sklearn-color-unfitted-level-3: chocolate;\n",
       "  /* Definition of color scheme for fitted estimators */\n",
       "  --sklearn-color-fitted-level-0: #f0f8ff;\n",
       "  --sklearn-color-fitted-level-1: #d4ebff;\n",
       "  --sklearn-color-fitted-level-2: #b3dbfd;\n",
       "  --sklearn-color-fitted-level-3: cornflowerblue;\n",
       "\n",
       "  /* Specific color for light theme */\n",
       "  --sklearn-color-text-on-default-background: var(--sg-text-color, var(--theme-code-foreground, var(--jp-content-font-color1, black)));\n",
       "  --sklearn-color-background: var(--sg-background-color, var(--theme-background, var(--jp-layout-color0, white)));\n",
       "  --sklearn-color-border-box: var(--sg-text-color, var(--theme-code-foreground, var(--jp-content-font-color1, black)));\n",
       "  --sklearn-color-icon: #696969;\n",
       "\n",
       "  @media (prefers-color-scheme: dark) {\n",
       "    /* Redefinition of color scheme for dark theme */\n",
       "    --sklearn-color-text-on-default-background: var(--sg-text-color, var(--theme-code-foreground, var(--jp-content-font-color1, white)));\n",
       "    --sklearn-color-background: var(--sg-background-color, var(--theme-background, var(--jp-layout-color0, #111)));\n",
       "    --sklearn-color-border-box: var(--sg-text-color, var(--theme-code-foreground, var(--jp-content-font-color1, white)));\n",
       "    --sklearn-color-icon: #878787;\n",
       "  }\n",
       "}\n",
       "\n",
       "#sk-container-id-1 {\n",
       "  color: var(--sklearn-color-text);\n",
       "}\n",
       "\n",
       "#sk-container-id-1 pre {\n",
       "  padding: 0;\n",
       "}\n",
       "\n",
       "#sk-container-id-1 input.sk-hidden--visually {\n",
       "  border: 0;\n",
       "  clip: rect(1px 1px 1px 1px);\n",
       "  clip: rect(1px, 1px, 1px, 1px);\n",
       "  height: 1px;\n",
       "  margin: -1px;\n",
       "  overflow: hidden;\n",
       "  padding: 0;\n",
       "  position: absolute;\n",
       "  width: 1px;\n",
       "}\n",
       "\n",
       "#sk-container-id-1 div.sk-dashed-wrapped {\n",
       "  border: 1px dashed var(--sklearn-color-line);\n",
       "  margin: 0 0.4em 0.5em 0.4em;\n",
       "  box-sizing: border-box;\n",
       "  padding-bottom: 0.4em;\n",
       "  background-color: var(--sklearn-color-background);\n",
       "}\n",
       "\n",
       "#sk-container-id-1 div.sk-container {\n",
       "  /* jupyter's `normalize.less` sets `[hidden] { display: none; }`\n",
       "     but bootstrap.min.css set `[hidden] { display: none !important; }`\n",
       "     so we also need the `!important` here to be able to override the\n",
       "     default hidden behavior on the sphinx rendered scikit-learn.org.\n",
       "     See: https://github.com/scikit-learn/scikit-learn/issues/21755 */\n",
       "  display: inline-block !important;\n",
       "  position: relative;\n",
       "}\n",
       "\n",
       "#sk-container-id-1 div.sk-text-repr-fallback {\n",
       "  display: none;\n",
       "}\n",
       "\n",
       "div.sk-parallel-item,\n",
       "div.sk-serial,\n",
       "div.sk-item {\n",
       "  /* draw centered vertical line to link estimators */\n",
       "  background-image: linear-gradient(var(--sklearn-color-text-on-default-background), var(--sklearn-color-text-on-default-background));\n",
       "  background-size: 2px 100%;\n",
       "  background-repeat: no-repeat;\n",
       "  background-position: center center;\n",
       "}\n",
       "\n",
       "/* Parallel-specific style estimator block */\n",
       "\n",
       "#sk-container-id-1 div.sk-parallel-item::after {\n",
       "  content: \"\";\n",
       "  width: 100%;\n",
       "  border-bottom: 2px solid var(--sklearn-color-text-on-default-background);\n",
       "  flex-grow: 1;\n",
       "}\n",
       "\n",
       "#sk-container-id-1 div.sk-parallel {\n",
       "  display: flex;\n",
       "  align-items: stretch;\n",
       "  justify-content: center;\n",
       "  background-color: var(--sklearn-color-background);\n",
       "  position: relative;\n",
       "}\n",
       "\n",
       "#sk-container-id-1 div.sk-parallel-item {\n",
       "  display: flex;\n",
       "  flex-direction: column;\n",
       "}\n",
       "\n",
       "#sk-container-id-1 div.sk-parallel-item:first-child::after {\n",
       "  align-self: flex-end;\n",
       "  width: 50%;\n",
       "}\n",
       "\n",
       "#sk-container-id-1 div.sk-parallel-item:last-child::after {\n",
       "  align-self: flex-start;\n",
       "  width: 50%;\n",
       "}\n",
       "\n",
       "#sk-container-id-1 div.sk-parallel-item:only-child::after {\n",
       "  width: 0;\n",
       "}\n",
       "\n",
       "/* Serial-specific style estimator block */\n",
       "\n",
       "#sk-container-id-1 div.sk-serial {\n",
       "  display: flex;\n",
       "  flex-direction: column;\n",
       "  align-items: center;\n",
       "  background-color: var(--sklearn-color-background);\n",
       "  padding-right: 1em;\n",
       "  padding-left: 1em;\n",
       "}\n",
       "\n",
       "\n",
       "/* Toggleable style: style used for estimator/Pipeline/ColumnTransformer box that is\n",
       "clickable and can be expanded/collapsed.\n",
       "- Pipeline and ColumnTransformer use this feature and define the default style\n",
       "- Estimators will overwrite some part of the style using the `sk-estimator` class\n",
       "*/\n",
       "\n",
       "/* Pipeline and ColumnTransformer style (default) */\n",
       "\n",
       "#sk-container-id-1 div.sk-toggleable {\n",
       "  /* Default theme specific background. It is overwritten whether we have a\n",
       "  specific estimator or a Pipeline/ColumnTransformer */\n",
       "  background-color: var(--sklearn-color-background);\n",
       "}\n",
       "\n",
       "/* Toggleable label */\n",
       "#sk-container-id-1 label.sk-toggleable__label {\n",
       "  cursor: pointer;\n",
       "  display: block;\n",
       "  width: 100%;\n",
       "  margin-bottom: 0;\n",
       "  padding: 0.5em;\n",
       "  box-sizing: border-box;\n",
       "  text-align: center;\n",
       "}\n",
       "\n",
       "#sk-container-id-1 label.sk-toggleable__label-arrow:before {\n",
       "  /* Arrow on the left of the label */\n",
       "  content: \"▸\";\n",
       "  float: left;\n",
       "  margin-right: 0.25em;\n",
       "  color: var(--sklearn-color-icon);\n",
       "}\n",
       "\n",
       "#sk-container-id-1 label.sk-toggleable__label-arrow:hover:before {\n",
       "  color: var(--sklearn-color-text);\n",
       "}\n",
       "\n",
       "/* Toggleable content - dropdown */\n",
       "\n",
       "#sk-container-id-1 div.sk-toggleable__content {\n",
       "  max-height: 0;\n",
       "  max-width: 0;\n",
       "  overflow: hidden;\n",
       "  text-align: left;\n",
       "  /* unfitted */\n",
       "  background-color: var(--sklearn-color-unfitted-level-0);\n",
       "}\n",
       "\n",
       "#sk-container-id-1 div.sk-toggleable__content.fitted {\n",
       "  /* fitted */\n",
       "  background-color: var(--sklearn-color-fitted-level-0);\n",
       "}\n",
       "\n",
       "#sk-container-id-1 div.sk-toggleable__content pre {\n",
       "  margin: 0.2em;\n",
       "  border-radius: 0.25em;\n",
       "  color: var(--sklearn-color-text);\n",
       "  /* unfitted */\n",
       "  background-color: var(--sklearn-color-unfitted-level-0);\n",
       "}\n",
       "\n",
       "#sk-container-id-1 div.sk-toggleable__content.fitted pre {\n",
       "  /* unfitted */\n",
       "  background-color: var(--sklearn-color-fitted-level-0);\n",
       "}\n",
       "\n",
       "#sk-container-id-1 input.sk-toggleable__control:checked~div.sk-toggleable__content {\n",
       "  /* Expand drop-down */\n",
       "  max-height: 200px;\n",
       "  max-width: 100%;\n",
       "  overflow: auto;\n",
       "}\n",
       "\n",
       "#sk-container-id-1 input.sk-toggleable__control:checked~label.sk-toggleable__label-arrow:before {\n",
       "  content: \"▾\";\n",
       "}\n",
       "\n",
       "/* Pipeline/ColumnTransformer-specific style */\n",
       "\n",
       "#sk-container-id-1 div.sk-label input.sk-toggleable__control:checked~label.sk-toggleable__label {\n",
       "  color: var(--sklearn-color-text);\n",
       "  background-color: var(--sklearn-color-unfitted-level-2);\n",
       "}\n",
       "\n",
       "#sk-container-id-1 div.sk-label.fitted input.sk-toggleable__control:checked~label.sk-toggleable__label {\n",
       "  background-color: var(--sklearn-color-fitted-level-2);\n",
       "}\n",
       "\n",
       "/* Estimator-specific style */\n",
       "\n",
       "/* Colorize estimator box */\n",
       "#sk-container-id-1 div.sk-estimator input.sk-toggleable__control:checked~label.sk-toggleable__label {\n",
       "  /* unfitted */\n",
       "  background-color: var(--sklearn-color-unfitted-level-2);\n",
       "}\n",
       "\n",
       "#sk-container-id-1 div.sk-estimator.fitted input.sk-toggleable__control:checked~label.sk-toggleable__label {\n",
       "  /* fitted */\n",
       "  background-color: var(--sklearn-color-fitted-level-2);\n",
       "}\n",
       "\n",
       "#sk-container-id-1 div.sk-label label.sk-toggleable__label,\n",
       "#sk-container-id-1 div.sk-label label {\n",
       "  /* The background is the default theme color */\n",
       "  color: var(--sklearn-color-text-on-default-background);\n",
       "}\n",
       "\n",
       "/* On hover, darken the color of the background */\n",
       "#sk-container-id-1 div.sk-label:hover label.sk-toggleable__label {\n",
       "  color: var(--sklearn-color-text);\n",
       "  background-color: var(--sklearn-color-unfitted-level-2);\n",
       "}\n",
       "\n",
       "/* Label box, darken color on hover, fitted */\n",
       "#sk-container-id-1 div.sk-label.fitted:hover label.sk-toggleable__label.fitted {\n",
       "  color: var(--sklearn-color-text);\n",
       "  background-color: var(--sklearn-color-fitted-level-2);\n",
       "}\n",
       "\n",
       "/* Estimator label */\n",
       "\n",
       "#sk-container-id-1 div.sk-label label {\n",
       "  font-family: monospace;\n",
       "  font-weight: bold;\n",
       "  display: inline-block;\n",
       "  line-height: 1.2em;\n",
       "}\n",
       "\n",
       "#sk-container-id-1 div.sk-label-container {\n",
       "  text-align: center;\n",
       "}\n",
       "\n",
       "/* Estimator-specific */\n",
       "#sk-container-id-1 div.sk-estimator {\n",
       "  font-family: monospace;\n",
       "  border: 1px dotted var(--sklearn-color-border-box);\n",
       "  border-radius: 0.25em;\n",
       "  box-sizing: border-box;\n",
       "  margin-bottom: 0.5em;\n",
       "  /* unfitted */\n",
       "  background-color: var(--sklearn-color-unfitted-level-0);\n",
       "}\n",
       "\n",
       "#sk-container-id-1 div.sk-estimator.fitted {\n",
       "  /* fitted */\n",
       "  background-color: var(--sklearn-color-fitted-level-0);\n",
       "}\n",
       "\n",
       "/* on hover */\n",
       "#sk-container-id-1 div.sk-estimator:hover {\n",
       "  /* unfitted */\n",
       "  background-color: var(--sklearn-color-unfitted-level-2);\n",
       "}\n",
       "\n",
       "#sk-container-id-1 div.sk-estimator.fitted:hover {\n",
       "  /* fitted */\n",
       "  background-color: var(--sklearn-color-fitted-level-2);\n",
       "}\n",
       "\n",
       "/* Specification for estimator info (e.g. \"i\" and \"?\") */\n",
       "\n",
       "/* Common style for \"i\" and \"?\" */\n",
       "\n",
       ".sk-estimator-doc-link,\n",
       "a:link.sk-estimator-doc-link,\n",
       "a:visited.sk-estimator-doc-link {\n",
       "  float: right;\n",
       "  font-size: smaller;\n",
       "  line-height: 1em;\n",
       "  font-family: monospace;\n",
       "  background-color: var(--sklearn-color-background);\n",
       "  border-radius: 1em;\n",
       "  height: 1em;\n",
       "  width: 1em;\n",
       "  text-decoration: none !important;\n",
       "  margin-left: 1ex;\n",
       "  /* unfitted */\n",
       "  border: var(--sklearn-color-unfitted-level-1) 1pt solid;\n",
       "  color: var(--sklearn-color-unfitted-level-1);\n",
       "}\n",
       "\n",
       ".sk-estimator-doc-link.fitted,\n",
       "a:link.sk-estimator-doc-link.fitted,\n",
       "a:visited.sk-estimator-doc-link.fitted {\n",
       "  /* fitted */\n",
       "  border: var(--sklearn-color-fitted-level-1) 1pt solid;\n",
       "  color: var(--sklearn-color-fitted-level-1);\n",
       "}\n",
       "\n",
       "/* On hover */\n",
       "div.sk-estimator:hover .sk-estimator-doc-link:hover,\n",
       ".sk-estimator-doc-link:hover,\n",
       "div.sk-label-container:hover .sk-estimator-doc-link:hover,\n",
       ".sk-estimator-doc-link:hover {\n",
       "  /* unfitted */\n",
       "  background-color: var(--sklearn-color-unfitted-level-3);\n",
       "  color: var(--sklearn-color-background);\n",
       "  text-decoration: none;\n",
       "}\n",
       "\n",
       "div.sk-estimator.fitted:hover .sk-estimator-doc-link.fitted:hover,\n",
       ".sk-estimator-doc-link.fitted:hover,\n",
       "div.sk-label-container:hover .sk-estimator-doc-link.fitted:hover,\n",
       ".sk-estimator-doc-link.fitted:hover {\n",
       "  /* fitted */\n",
       "  background-color: var(--sklearn-color-fitted-level-3);\n",
       "  color: var(--sklearn-color-background);\n",
       "  text-decoration: none;\n",
       "}\n",
       "\n",
       "/* Span, style for the box shown on hovering the info icon */\n",
       ".sk-estimator-doc-link span {\n",
       "  display: none;\n",
       "  z-index: 9999;\n",
       "  position: relative;\n",
       "  font-weight: normal;\n",
       "  right: .2ex;\n",
       "  padding: .5ex;\n",
       "  margin: .5ex;\n",
       "  width: min-content;\n",
       "  min-width: 20ex;\n",
       "  max-width: 50ex;\n",
       "  color: var(--sklearn-color-text);\n",
       "  box-shadow: 2pt 2pt 4pt #999;\n",
       "  /* unfitted */\n",
       "  background: var(--sklearn-color-unfitted-level-0);\n",
       "  border: .5pt solid var(--sklearn-color-unfitted-level-3);\n",
       "}\n",
       "\n",
       ".sk-estimator-doc-link.fitted span {\n",
       "  /* fitted */\n",
       "  background: var(--sklearn-color-fitted-level-0);\n",
       "  border: var(--sklearn-color-fitted-level-3);\n",
       "}\n",
       "\n",
       ".sk-estimator-doc-link:hover span {\n",
       "  display: block;\n",
       "}\n",
       "\n",
       "/* \"?\"-specific style due to the `<a>` HTML tag */\n",
       "\n",
       "#sk-container-id-1 a.estimator_doc_link {\n",
       "  float: right;\n",
       "  font-size: 1rem;\n",
       "  line-height: 1em;\n",
       "  font-family: monospace;\n",
       "  background-color: var(--sklearn-color-background);\n",
       "  border-radius: 1rem;\n",
       "  height: 1rem;\n",
       "  width: 1rem;\n",
       "  text-decoration: none;\n",
       "  /* unfitted */\n",
       "  color: var(--sklearn-color-unfitted-level-1);\n",
       "  border: var(--sklearn-color-unfitted-level-1) 1pt solid;\n",
       "}\n",
       "\n",
       "#sk-container-id-1 a.estimator_doc_link.fitted {\n",
       "  /* fitted */\n",
       "  border: var(--sklearn-color-fitted-level-1) 1pt solid;\n",
       "  color: var(--sklearn-color-fitted-level-1);\n",
       "}\n",
       "\n",
       "/* On hover */\n",
       "#sk-container-id-1 a.estimator_doc_link:hover {\n",
       "  /* unfitted */\n",
       "  background-color: var(--sklearn-color-unfitted-level-3);\n",
       "  color: var(--sklearn-color-background);\n",
       "  text-decoration: none;\n",
       "}\n",
       "\n",
       "#sk-container-id-1 a.estimator_doc_link.fitted:hover {\n",
       "  /* fitted */\n",
       "  background-color: var(--sklearn-color-fitted-level-3);\n",
       "}\n",
       "</style><div id=\"sk-container-id-1\" class=\"sk-top-container\"><div class=\"sk-text-repr-fallback\"><pre>LogisticRegression(class_weight=&#x27;balanced&#x27;, max_iter=1000)</pre><b>In a Jupyter environment, please rerun this cell to show the HTML representation or trust the notebook. <br />On GitHub, the HTML representation is unable to render, please try loading this page with nbviewer.org.</b></div><div class=\"sk-container\" hidden><div class=\"sk-item\"><div class=\"sk-estimator fitted sk-toggleable\"><input class=\"sk-toggleable__control sk-hidden--visually\" id=\"sk-estimator-id-1\" type=\"checkbox\" checked><label for=\"sk-estimator-id-1\" class=\"sk-toggleable__label fitted sk-toggleable__label-arrow fitted\">&nbsp;&nbsp;LogisticRegression<a class=\"sk-estimator-doc-link fitted\" rel=\"noreferrer\" target=\"_blank\" href=\"https://scikit-learn.org/1.5/modules/generated/sklearn.linear_model.LogisticRegression.html\">?<span>Documentation for LogisticRegression</span></a><span class=\"sk-estimator-doc-link fitted\">i<span>Fitted</span></span></label><div class=\"sk-toggleable__content fitted\"><pre>LogisticRegression(class_weight=&#x27;balanced&#x27;, max_iter=1000)</pre></div> </div></div></div></div>"
      ],
      "text/plain": [
       "LogisticRegression(class_weight='balanced', max_iter=1000)"
      ]
     },
     "execution_count": 13,
     "metadata": {},
     "output_type": "execute_result"
    }
   ],
   "source": [
    "from sklearn.linear_model import LogisticRegression\n",
    "\n",
    "model = model_training(model = LogisticRegression(class_weight='balanced', max_iter=1000),\n",
    "\t\t\t\t\t\tX_train = X_train,\n",
    "\t\t\t\t\t\ty_train = y_train)\n",
    "model"
   ]
  },
  {
   "cell_type": "code",
   "execution_count": 14,
   "id": "dd3cc279-d7f3-4a09-b847-1dbeb95beca5",
   "metadata": {},
   "outputs": [
    {
     "name": "stdout",
     "output_type": "stream",
     "text": [
      "Model predictions done.\n",
      "Model probabilistic predictions done.\n"
     ]
    }
   ],
   "source": [
    "from evaluation import model_predictions, model_evaluation\n",
    "\n",
    "y_pred, y_prob = model_predictions(model = model, \n",
    "\t\t\t\t\t\t\t\t\tX_test = X_test,\n",
    "\t\t\t\t\t\t\t\t\tprob = True)"
   ]
  },
  {
   "cell_type": "code",
   "execution_count": 15,
   "id": "e1ec99ad-3d3a-4dcc-b0a0-812ba87024fd",
   "metadata": {},
   "outputs": [
    {
     "name": "stdout",
     "output_type": "stream",
     "text": [
      "Model accurracy: 80.46%\n",
      "Model F1 score: 0.778\n",
      "Confusion matrix plotted.\n",
      "Model AUC score: 0.8808\n",
      "ROC plotted.\n"
     ]
    },
    {
     "name": "stderr",
     "output_type": "stream",
     "text": [
      "/Users/albertosantosmorales/Documents/UdG_MCD/semestre_2/programacion_2/progra2_mcd_challenges/comments_on_glassdoor_challenge/src/evaluation.py:81: UserWarning: FigureCanvasAgg is non-interactive, and thus cannot be shown\n",
      "  fig.show()\n"
     ]
    },
    {
     "data": {
      "text/plain": [
       "({'accurracy': 0.8046127572084695,\n",
       "  'f1_score': np.float64(0.7779710032302533),\n",
       "  'auc_score': np.float64(0.8807781541648936)},\n",
       " {'confusion_matrix': <sklearn.metrics._plot.confusion_matrix.ConfusionMatrixDisplay at 0x3492b2f30>,\n",
       "  'roc': <Figure size 640x480 with 1 Axes>})"
      ]
     },
     "execution_count": 15,
     "metadata": {},
     "output_type": "execute_result"
    },
    {
     "data": {
      "image/png": "[encoded data removed]",
      "text/plain": [
       "<Figure size 640x480 with 2 Axes>"
      ]
     },
     "metadata": {},
     "output_type": "display_data"
    },
    {
     "data": {
      "image/png": "[encoded data removed]",
      "text/plain": [
       "<Figure size 640x480 with 1 Axes>"
      ]
     },
     "metadata": {},
     "output_type": "display_data"
    }
   ],
   "source": [
    "model_evaluation(y_pred, y_prob, y_test)"
   ]
  },
  {
   "cell_type": "markdown",
   "id": "c1225cf4-eb20-4023-9599-1211e729fb7d",
   "metadata": {},
   "source": [
    "___\n",
    "## Conclusion\n",
    "For this first approach using Logistic Regression I got interesting metrics (see report above). I feel uncomfortable because I removed important data from the *corpus* due to *no-opinion* label into **recommend** variable.\n",
    "That is the reason I would like to try a second approach using Linear Regression and the variable **overall_rating**.\n",
    "\n",
    "## Second approach. Linear Regression "
   ]
  },
  {
   "cell_type": "code",
   "execution_count": 16,
   "id": "cea8b537-a7ea-4863-a5aa-65dc7f92b1b6",
   "metadata": {},
   "outputs": [
    {
     "name": "stdout",
     "output_type": "stream",
     "text": [
      "Dataset found: ../data/glassdoor_reviews.csv\n",
      "Dataset is loaded.\n",
      "Rows with empty values were removed from selected columns.\n",
      "<class 'pandas.core.frame.DataFrame'>\n",
      "Index: 835961 entries, 0 to 838565\n",
      "Data columns (total 18 columns):\n",
      " #   Column               Non-Null Count   Dtype  \n",
      "---  ------               --------------   -----  \n",
      " 0   firm                 835961 non-null  object \n",
      " 1   date_review          835961 non-null  object \n",
      " 2   job_title            835961 non-null  object \n",
      " 3   current              835961 non-null  object \n",
      " 4   location             539356 non-null  object \n",
      " 5   overall_rating       835961 non-null  int64  \n",
      " 6   work_life_balance    687174 non-null  float64\n",
      " 7   culture_values       645801 non-null  float64\n",
      " 8   diversity_inclusion  135326 non-null  float64\n",
      " 9   career_opp           689551 non-null  float64\n",
      " 10  comp_benefits        686986 non-null  float64\n",
      " 11  senior_mgmt          681205 non-null  float64\n",
      " 12  recommend            835961 non-null  object \n",
      " 13  ceo_approv           835961 non-null  object \n",
      " 14  outlook              835961 non-null  object \n",
      " 15  headline             835961 non-null  object \n",
      " 16  pros                 835961 non-null  object \n",
      " 17  cons                 835961 non-null  object \n",
      "dtypes: float64(6), int64(1), object(11)\n",
      "memory usage: 121.2+ MB\n"
     ]
    }
   ],
   "source": [
    "df = load_dataset()\n",
    "columns = ['overall_rating', 'headline', 'pros', 'cons']\n",
    "df = remove_empty_rows(df, columns)\n",
    "df.info()"
   ]
  },
  {
   "cell_type": "code",
   "execution_count": 17,
   "id": "9af4396b-0c4b-43ba-a684-3d156ce94088",
   "metadata": {},
   "outputs": [
    {
     "data": {
      "image/png": "[encoded data removed]",
      "text/plain": [
       "<Figure size 600x400 with 1 Axes>"
      ]
     },
     "metadata": {},
     "output_type": "display_data"
    }
   ],
   "source": [
    "bar_distribution_plot(df, 'overall_rating')"
   ]
  },
  {
   "cell_type": "markdown",
   "id": "f0754465-8d8a-401b-ba28-e0a968ac0962",
   "metadata": {},
   "source": [
    "___\n",
    "Once again, we can see the target variable has unbalanced samples."
   ]
  },
  {
   "cell_type": "code",
   "execution_count": 18,
   "id": "f213a6e0-7bd8-4c6d-9afb-9501790348dd",
   "metadata": {},
   "outputs": [
    {
     "name": "stdout",
     "output_type": "stream",
     "text": [
      "Cleaning process for headline.\n",
      "Capital letters removed.\n",
      "Numbers in text removed.\n",
      "Punctuation removed.\n",
      "Extra spaces removed.\n",
      "Cleaning process for pros.\n",
      "Capital letters removed.\n",
      "Numbers in text removed.\n",
      "Punctuation removed.\n",
      "Extra spaces removed.\n",
      "Cleaning process for cons.\n",
      "Capital letters removed.\n",
      "Numbers in text removed.\n",
      "Punctuation removed.\n",
      "Extra spaces removed.\n",
      "Stop words remotion process for headline_cleaned.\n",
      "Stop words removed.\n",
      "Stop words remotion process for pros_cleaned.\n",
      "Stop words removed.\n",
      "Stop words remotion process for cons_cleaned.\n",
      "Stop words removed.\n",
      "Lemmatizing process for headline_cleaned_no_stopwords.\n",
      "Text lemmatized.\n",
      "Lemmatizing process for pros_cleaned_no_stopwords.\n",
      "Text lemmatized.\n",
      "Lemmatizing process for cons_cleaned_no_stopwords.\n",
      "Text lemmatized.\n",
      "Columns ['headline_cleaned_no_stopwords_lemmatized', 'pros_cleaned_no_stopwords_lemmatized', 'cons_cleaned_no_stopwords_lemmatized'] merged.\n",
      "Text vectorized\n",
      "Feature subset for training was built. 422176 samples\n",
      "Feature subset for testing was built. 180933 samples\n",
      "Target subset for training was built. 422176 samples\n",
      "Target subset for testing was built. 180933 samples\n"
     ]
    }
   ],
   "source": [
    "columns = ['headline', 'pros', 'cons']\n",
    "df_cleaned, name_columns_cleaned = cleanning(df=df_mapped,\n",
    "                                            columns=columns,\n",
    "                                            lower_case=True,\n",
    "                                            remove_numbers=True,\n",
    "                                            remove_punctuation=True,\n",
    "                                            remove_extra_spaces=True)\n",
    "\n",
    "df_no_stopwords, name_columns_no_stopwords = stopwords_remotion(df = df_cleaned,\n",
    "\t\t\t\t\t\t\t\t\t\t\t\t\t\t\t\tcolumns = name_columns_cleaned) \n",
    "\t\n",
    "df_lemmatized, name_columns_lemmatized = lemmatizing(df = df_no_stopwords,\n",
    "\t\t\t\t\t\t\t\t\t\t\t\t\tcolumns = name_columns_no_stopwords)\n",
    "\n",
    "df_text_merged, name_merged_column = text_columns_merging(df = df_lemmatized,\n",
    "\t\t\t\t\t\t\t\t\t\t\t\t\t\tcolumns=name_columns_lemmatized)\n",
    "\n",
    "X = tfidf_vectorizing(df_text_merged[name_merged_column])\n",
    "y = df_text_merged['overall_rating']\n",
    "\n",
    "X_train, X_test, y_train, y_test = get_train_test_subsets(X=X, y=y)"
   ]
  },
  {
   "cell_type": "code",
   "execution_count": 19,
   "id": "0822092b-4ec3-4629-bae1-776e0a614e5d",
   "metadata": {},
   "outputs": [
    {
     "name": "stdout",
     "output_type": "stream",
     "text": [
      "Model \"LinearRegression\" trained.\n"
     ]
    },
    {
     "data": {
      "text/html": [
       "<style>#sk-container-id-2 {\n",
       "  /* Definition of color scheme common for light and dark mode */\n",
       "  --sklearn-color-text: black;\n",
       "  --sklearn-color-line: gray;\n",
       "  /* Definition of color scheme for unfitted estimators */\n",
       "  --sklearn-color-unfitted-level-0: #fff5e6;\n",
       "  --sklearn-color-unfitted-level-1: #f6e4d2;\n",
       "  --sklearn-color-unfitted-level-2: #ffe0b3;\n",
       "  --sklearn-color-unfitted-level-3: chocolate;\n",
       "  /* Definition of color scheme for fitted estimators */\n",
       "  --sklearn-color-fitted-level-0: #f0f8ff;\n",
       "  --sklearn-color-fitted-level-1: #d4ebff;\n",
       "  --sklearn-color-fitted-level-2: #b3dbfd;\n",
       "  --sklearn-color-fitted-level-3: cornflowerblue;\n",
       "\n",
       "  /* Specific color for light theme */\n",
       "  --sklearn-color-text-on-default-background: var(--sg-text-color, var(--theme-code-foreground, var(--jp-content-font-color1, black)));\n",
       "  --sklearn-color-background: var(--sg-background-color, var(--theme-background, var(--jp-layout-color0, white)));\n",
       "  --sklearn-color-border-box: var(--sg-text-color, var(--theme-code-foreground, var(--jp-content-font-color1, black)));\n",
       "  --sklearn-color-icon: #696969;\n",
       "\n",
       "  @media (prefers-color-scheme: dark) {\n",
       "    /* Redefinition of color scheme for dark theme */\n",
       "    --sklearn-color-text-on-default-background: var(--sg-text-color, var(--theme-code-foreground, var(--jp-content-font-color1, white)));\n",
       "    --sklearn-color-background: var(--sg-background-color, var(--theme-background, var(--jp-layout-color0, #111)));\n",
       "    --sklearn-color-border-box: var(--sg-text-color, var(--theme-code-foreground, var(--jp-content-font-color1, white)));\n",
       "    --sklearn-color-icon: #878787;\n",
       "  }\n",
       "}\n",
       "\n",
       "#sk-container-id-2 {\n",
       "  color: var(--sklearn-color-text);\n",
       "}\n",
       "\n",
       "#sk-container-id-2 pre {\n",
       "  padding: 0;\n",
       "}\n",
       "\n",
       "#sk-container-id-2 input.sk-hidden--visually {\n",
       "  border: 0;\n",
       "  clip: rect(1px 1px 1px 1px);\n",
       "  clip: rect(1px, 1px, 1px, 1px);\n",
       "  height: 1px;\n",
       "  margin: -1px;\n",
       "  overflow: hidden;\n",
       "  padding: 0;\n",
       "  position: absolute;\n",
       "  width: 1px;\n",
       "}\n",
       "\n",
       "#sk-container-id-2 div.sk-dashed-wrapped {\n",
       "  border: 1px dashed var(--sklearn-color-line);\n",
       "  margin: 0 0.4em 0.5em 0.4em;\n",
       "  box-sizing: border-box;\n",
       "  padding-bottom: 0.4em;\n",
       "  background-color: var(--sklearn-color-background);\n",
       "}\n",
       "\n",
       "#sk-container-id-2 div.sk-container {\n",
       "  /* jupyter's `normalize.less` sets `[hidden] { display: none; }`\n",
       "     but bootstrap.min.css set `[hidden] { display: none !important; }`\n",
       "     so we also need the `!important` here to be able to override the\n",
       "     default hidden behavior on the sphinx rendered scikit-learn.org.\n",
       "     See: https://github.com/scikit-learn/scikit-learn/issues/21755 */\n",
       "  display: inline-block !important;\n",
       "  position: relative;\n",
       "}\n",
       "\n",
       "#sk-container-id-2 div.sk-text-repr-fallback {\n",
       "  display: none;\n",
       "}\n",
       "\n",
       "div.sk-parallel-item,\n",
       "div.sk-serial,\n",
       "div.sk-item {\n",
       "  /* draw centered vertical line to link estimators */\n",
       "  background-image: linear-gradient(var(--sklearn-color-text-on-default-background), var(--sklearn-color-text-on-default-background));\n",
       "  background-size: 2px 100%;\n",
       "  background-repeat: no-repeat;\n",
       "  background-position: center center;\n",
       "}\n",
       "\n",
       "/* Parallel-specific style estimator block */\n",
       "\n",
       "#sk-container-id-2 div.sk-parallel-item::after {\n",
       "  content: \"\";\n",
       "  width: 100%;\n",
       "  border-bottom: 2px solid var(--sklearn-color-text-on-default-background);\n",
       "  flex-grow: 1;\n",
       "}\n",
       "\n",
       "#sk-container-id-2 div.sk-parallel {\n",
       "  display: flex;\n",
       "  align-items: stretch;\n",
       "  justify-content: center;\n",
       "  background-color: var(--sklearn-color-background);\n",
       "  position: relative;\n",
       "}\n",
       "\n",
       "#sk-container-id-2 div.sk-parallel-item {\n",
       "  display: flex;\n",
       "  flex-direction: column;\n",
       "}\n",
       "\n",
       "#sk-container-id-2 div.sk-parallel-item:first-child::after {\n",
       "  align-self: flex-end;\n",
       "  width: 50%;\n",
       "}\n",
       "\n",
       "#sk-container-id-2 div.sk-parallel-item:last-child::after {\n",
       "  align-self: flex-start;\n",
       "  width: 50%;\n",
       "}\n",
       "\n",
       "#sk-container-id-2 div.sk-parallel-item:only-child::after {\n",
       "  width: 0;\n",
       "}\n",
       "\n",
       "/* Serial-specific style estimator block */\n",
       "\n",
       "#sk-container-id-2 div.sk-serial {\n",
       "  display: flex;\n",
       "  flex-direction: column;\n",
       "  align-items: center;\n",
       "  background-color: var(--sklearn-color-background);\n",
       "  padding-right: 1em;\n",
       "  padding-left: 1em;\n",
       "}\n",
       "\n",
       "\n",
       "/* Toggleable style: style used for estimator/Pipeline/ColumnTransformer box that is\n",
       "clickable and can be expanded/collapsed.\n",
       "- Pipeline and ColumnTransformer use this feature and define the default style\n",
       "- Estimators will overwrite some part of the style using the `sk-estimator` class\n",
       "*/\n",
       "\n",
       "/* Pipeline and ColumnTransformer style (default) */\n",
       "\n",
       "#sk-container-id-2 div.sk-toggleable {\n",
       "  /* Default theme specific background. It is overwritten whether we have a\n",
       "  specific estimator or a Pipeline/ColumnTransformer */\n",
       "  background-color: var(--sklearn-color-background);\n",
       "}\n",
       "\n",
       "/* Toggleable label */\n",
       "#sk-container-id-2 label.sk-toggleable__label {\n",
       "  cursor: pointer;\n",
       "  display: block;\n",
       "  width: 100%;\n",
       "  margin-bottom: 0;\n",
       "  padding: 0.5em;\n",
       "  box-sizing: border-box;\n",
       "  text-align: center;\n",
       "}\n",
       "\n",
       "#sk-container-id-2 label.sk-toggleable__label-arrow:before {\n",
       "  /* Arrow on the left of the label */\n",
       "  content: \"▸\";\n",
       "  float: left;\n",
       "  margin-right: 0.25em;\n",
       "  color: var(--sklearn-color-icon);\n",
       "}\n",
       "\n",
       "#sk-container-id-2 label.sk-toggleable__label-arrow:hover:before {\n",
       "  color: var(--sklearn-color-text);\n",
       "}\n",
       "\n",
       "/* Toggleable content - dropdown */\n",
       "\n",
       "#sk-container-id-2 div.sk-toggleable__content {\n",
       "  max-height: 0;\n",
       "  max-width: 0;\n",
       "  overflow: hidden;\n",
       "  text-align: left;\n",
       "  /* unfitted */\n",
       "  background-color: var(--sklearn-color-unfitted-level-0);\n",
       "}\n",
       "\n",
       "#sk-container-id-2 div.sk-toggleable__content.fitted {\n",
       "  /* fitted */\n",
       "  background-color: var(--sklearn-color-fitted-level-0);\n",
       "}\n",
       "\n",
       "#sk-container-id-2 div.sk-toggleable__content pre {\n",
       "  margin: 0.2em;\n",
       "  border-radius: 0.25em;\n",
       "  color: var(--sklearn-color-text);\n",
       "  /* unfitted */\n",
       "  background-color: var(--sklearn-color-unfitted-level-0);\n",
       "}\n",
       "\n",
       "#sk-container-id-2 div.sk-toggleable__content.fitted pre {\n",
       "  /* unfitted */\n",
       "  background-color: var(--sklearn-color-fitted-level-0);\n",
       "}\n",
       "\n",
       "#sk-container-id-2 input.sk-toggleable__control:checked~div.sk-toggleable__content {\n",
       "  /* Expand drop-down */\n",
       "  max-height: 200px;\n",
       "  max-width: 100%;\n",
       "  overflow: auto;\n",
       "}\n",
       "\n",
       "#sk-container-id-2 input.sk-toggleable__control:checked~label.sk-toggleable__label-arrow:before {\n",
       "  content: \"▾\";\n",
       "}\n",
       "\n",
       "/* Pipeline/ColumnTransformer-specific style */\n",
       "\n",
       "#sk-container-id-2 div.sk-label input.sk-toggleable__control:checked~label.sk-toggleable__label {\n",
       "  color: var(--sklearn-color-text);\n",
       "  background-color: var(--sklearn-color-unfitted-level-2);\n",
       "}\n",
       "\n",
       "#sk-container-id-2 div.sk-label.fitted input.sk-toggleable__control:checked~label.sk-toggleable__label {\n",
       "  background-color: var(--sklearn-color-fitted-level-2);\n",
       "}\n",
       "\n",
       "/* Estimator-specific style */\n",
       "\n",
       "/* Colorize estimator box */\n",
       "#sk-container-id-2 div.sk-estimator input.sk-toggleable__control:checked~label.sk-toggleable__label {\n",
       "  /* unfitted */\n",
       "  background-color: var(--sklearn-color-unfitted-level-2);\n",
       "}\n",
       "\n",
       "#sk-container-id-2 div.sk-estimator.fitted input.sk-toggleable__control:checked~label.sk-toggleable__label {\n",
       "  /* fitted */\n",
       "  background-color: var(--sklearn-color-fitted-level-2);\n",
       "}\n",
       "\n",
       "#sk-container-id-2 div.sk-label label.sk-toggleable__label,\n",
       "#sk-container-id-2 div.sk-label label {\n",
       "  /* The background is the default theme color */\n",
       "  color: var(--sklearn-color-text-on-default-background);\n",
       "}\n",
       "\n",
       "/* On hover, darken the color of the background */\n",
       "#sk-container-id-2 div.sk-label:hover label.sk-toggleable__label {\n",
       "  color: var(--sklearn-color-text);\n",
       "  background-color: var(--sklearn-color-unfitted-level-2);\n",
       "}\n",
       "\n",
       "/* Label box, darken color on hover, fitted */\n",
       "#sk-container-id-2 div.sk-label.fitted:hover label.sk-toggleable__label.fitted {\n",
       "  color: var(--sklearn-color-text);\n",
       "  background-color: var(--sklearn-color-fitted-level-2);\n",
       "}\n",
       "\n",
       "/* Estimator label */\n",
       "\n",
       "#sk-container-id-2 div.sk-label label {\n",
       "  font-family: monospace;\n",
       "  font-weight: bold;\n",
       "  display: inline-block;\n",
       "  line-height: 1.2em;\n",
       "}\n",
       "\n",
       "#sk-container-id-2 div.sk-label-container {\n",
       "  text-align: center;\n",
       "}\n",
       "\n",
       "/* Estimator-specific */\n",
       "#sk-container-id-2 div.sk-estimator {\n",
       "  font-family: monospace;\n",
       "  border: 1px dotted var(--sklearn-color-border-box);\n",
       "  border-radius: 0.25em;\n",
       "  box-sizing: border-box;\n",
       "  margin-bottom: 0.5em;\n",
       "  /* unfitted */\n",
       "  background-color: var(--sklearn-color-unfitted-level-0);\n",
       "}\n",
       "\n",
       "#sk-container-id-2 div.sk-estimator.fitted {\n",
       "  /* fitted */\n",
       "  background-color: var(--sklearn-color-fitted-level-0);\n",
       "}\n",
       "\n",
       "/* on hover */\n",
       "#sk-container-id-2 div.sk-estimator:hover {\n",
       "  /* unfitted */\n",
       "  background-color: var(--sklearn-color-unfitted-level-2);\n",
       "}\n",
       "\n",
       "#sk-container-id-2 div.sk-estimator.fitted:hover {\n",
       "  /* fitted */\n",
       "  background-color: var(--sklearn-color-fitted-level-2);\n",
       "}\n",
       "\n",
       "/* Specification for estimator info (e.g. \"i\" and \"?\") */\n",
       "\n",
       "/* Common style for \"i\" and \"?\" */\n",
       "\n",
       ".sk-estimator-doc-link,\n",
       "a:link.sk-estimator-doc-link,\n",
       "a:visited.sk-estimator-doc-link {\n",
       "  float: right;\n",
       "  font-size: smaller;\n",
       "  line-height: 1em;\n",
       "  font-family: monospace;\n",
       "  background-color: var(--sklearn-color-background);\n",
       "  border-radius: 1em;\n",
       "  height: 1em;\n",
       "  width: 1em;\n",
       "  text-decoration: none !important;\n",
       "  margin-left: 1ex;\n",
       "  /* unfitted */\n",
       "  border: var(--sklearn-color-unfitted-level-1) 1pt solid;\n",
       "  color: var(--sklearn-color-unfitted-level-1);\n",
       "}\n",
       "\n",
       ".sk-estimator-doc-link.fitted,\n",
       "a:link.sk-estimator-doc-link.fitted,\n",
       "a:visited.sk-estimator-doc-link.fitted {\n",
       "  /* fitted */\n",
       "  border: var(--sklearn-color-fitted-level-1) 1pt solid;\n",
       "  color: var(--sklearn-color-fitted-level-1);\n",
       "}\n",
       "\n",
       "/* On hover */\n",
       "div.sk-estimator:hover .sk-estimator-doc-link:hover,\n",
       ".sk-estimator-doc-link:hover,\n",
       "div.sk-label-container:hover .sk-estimator-doc-link:hover,\n",
       ".sk-estimator-doc-link:hover {\n",
       "  /* unfitted */\n",
       "  background-color: var(--sklearn-color-unfitted-level-3);\n",
       "  color: var(--sklearn-color-background);\n",
       "  text-decoration: none;\n",
       "}\n",
       "\n",
       "div.sk-estimator.fitted:hover .sk-estimator-doc-link.fitted:hover,\n",
       ".sk-estimator-doc-link.fitted:hover,\n",
       "div.sk-label-container:hover .sk-estimator-doc-link.fitted:hover,\n",
       ".sk-estimator-doc-link.fitted:hover {\n",
       "  /* fitted */\n",
       "  background-color: var(--sklearn-color-fitted-level-3);\n",
       "  color: var(--sklearn-color-background);\n",
       "  text-decoration: none;\n",
       "}\n",
       "\n",
       "/* Span, style for the box shown on hovering the info icon */\n",
       ".sk-estimator-doc-link span {\n",
       "  display: none;\n",
       "  z-index: 9999;\n",
       "  position: relative;\n",
       "  font-weight: normal;\n",
       "  right: .2ex;\n",
       "  padding: .5ex;\n",
       "  margin: .5ex;\n",
       "  width: min-content;\n",
       "  min-width: 20ex;\n",
       "  max-width: 50ex;\n",
       "  color: var(--sklearn-color-text);\n",
       "  box-shadow: 2pt 2pt 4pt #999;\n",
       "  /* unfitted */\n",
       "  background: var(--sklearn-color-unfitted-level-0);\n",
       "  border: .5pt solid var(--sklearn-color-unfitted-level-3);\n",
       "}\n",
       "\n",
       ".sk-estimator-doc-link.fitted span {\n",
       "  /* fitted */\n",
       "  background: var(--sklearn-color-fitted-level-0);\n",
       "  border: var(--sklearn-color-fitted-level-3);\n",
       "}\n",
       "\n",
       ".sk-estimator-doc-link:hover span {\n",
       "  display: block;\n",
       "}\n",
       "\n",
       "/* \"?\"-specific style due to the `<a>` HTML tag */\n",
       "\n",
       "#sk-container-id-2 a.estimator_doc_link {\n",
       "  float: right;\n",
       "  font-size: 1rem;\n",
       "  line-height: 1em;\n",
       "  font-family: monospace;\n",
       "  background-color: var(--sklearn-color-background);\n",
       "  border-radius: 1rem;\n",
       "  height: 1rem;\n",
       "  width: 1rem;\n",
       "  text-decoration: none;\n",
       "  /* unfitted */\n",
       "  color: var(--sklearn-color-unfitted-level-1);\n",
       "  border: var(--sklearn-color-unfitted-level-1) 1pt solid;\n",
       "}\n",
       "\n",
       "#sk-container-id-2 a.estimator_doc_link.fitted {\n",
       "  /* fitted */\n",
       "  border: var(--sklearn-color-fitted-level-1) 1pt solid;\n",
       "  color: var(--sklearn-color-fitted-level-1);\n",
       "}\n",
       "\n",
       "/* On hover */\n",
       "#sk-container-id-2 a.estimator_doc_link:hover {\n",
       "  /* unfitted */\n",
       "  background-color: var(--sklearn-color-unfitted-level-3);\n",
       "  color: var(--sklearn-color-background);\n",
       "  text-decoration: none;\n",
       "}\n",
       "\n",
       "#sk-container-id-2 a.estimator_doc_link.fitted:hover {\n",
       "  /* fitted */\n",
       "  background-color: var(--sklearn-color-fitted-level-3);\n",
       "}\n",
       "</style><div id=\"sk-container-id-2\" class=\"sk-top-container\"><div class=\"sk-text-repr-fallback\"><pre>LinearRegression()</pre><b>In a Jupyter environment, please rerun this cell to show the HTML representation or trust the notebook. <br />On GitHub, the HTML representation is unable to render, please try loading this page with nbviewer.org.</b></div><div class=\"sk-container\" hidden><div class=\"sk-item\"><div class=\"sk-estimator fitted sk-toggleable\"><input class=\"sk-toggleable__control sk-hidden--visually\" id=\"sk-estimator-id-2\" type=\"checkbox\" checked><label for=\"sk-estimator-id-2\" class=\"sk-toggleable__label fitted sk-toggleable__label-arrow fitted\">&nbsp;&nbsp;LinearRegression<a class=\"sk-estimator-doc-link fitted\" rel=\"noreferrer\" target=\"_blank\" href=\"https://scikit-learn.org/1.5/modules/generated/sklearn.linear_model.LinearRegression.html\">?<span>Documentation for LinearRegression</span></a><span class=\"sk-estimator-doc-link fitted\">i<span>Fitted</span></span></label><div class=\"sk-toggleable__content fitted\"><pre>LinearRegression()</pre></div> </div></div></div></div>"
      ],
      "text/plain": [
       "LinearRegression()"
      ]
     },
     "execution_count": 19,
     "metadata": {},
     "output_type": "execute_result"
    }
   ],
   "source": [
    "from sklearn.linear_model import LinearRegression\n",
    "\n",
    "model = model_training(model = LinearRegression(),\n",
    "\t\t\t\t\t\tX_train = X_train,\n",
    "\t\t\t\t\t\ty_train = y_train)\n",
    "model"
   ]
  },
  {
   "cell_type": "code",
   "execution_count": 20,
   "id": "dca2b5cf-3609-44c9-a87e-1bc150d56307",
   "metadata": {},
   "outputs": [
    {
     "name": "stdout",
     "output_type": "stream",
     "text": [
      "Model predictions done.\n"
     ]
    }
   ],
   "source": [
    "y_pred = model_predictions(model = model, \n",
    "\t\t\t\t\t\t\tX_test = X_test)"
   ]
  },
  {
   "cell_type": "code",
   "execution_count": 23,
   "id": "138c1924-fe85-4d18-8e8f-1c2f97605389",
   "metadata": {},
   "outputs": [
    {
     "data": {
      "image/png": "[encoded data removed]",
      "text/plain": [
       "<Figure size 640x480 with 1 Axes>"
      ]
     },
     "metadata": {},
     "output_type": "display_data"
    }
   ],
   "source": [
    "plt.scatter(y_test, y_pred)\n",
    "plt.show()"
   ]
  },
  {
   "cell_type": "code",
   "execution_count": 26,
   "id": "0b335246-4c8f-4f30-806d-f12afa75808d",
   "metadata": {},
   "outputs": [
    {
     "name": "stdout",
     "output_type": "stream",
     "text": [
      "RMSE = 0.9693\n",
      "r2 = 0.3756\n"
     ]
    }
   ],
   "source": [
    "from sklearn.metrics import root_mean_squared_error, r2_score\n",
    "\n",
    "rmse = root_mean_squared_error(y_test, y_pred)\n",
    "r2 = r2_score(y_test, y_pred)\n",
    "\n",
    "print(f'RMSE = {round(rmse, 4)}')\n",
    "print(f'r2 = {round(r2, 4)}')"
   ]
  },
  {
   "cell_type": "markdown",
   "id": "95a01248-b4f4-4803-82c5-58180e5d1623",
   "metadata": {},
   "source": [
    "___\n",
    "From the plot (y_test vs y_pred) we can see that y_pred has values from about -7 to +15. We need to overcome this behaviour in the next cell.\n",
    "The metrics are not good. More work is required."
   ]
  },
  {
   "cell_type": "code",
   "execution_count": 28,
   "id": "08ae48eb-101f-4579-a38c-a05f1aef8c6c",
   "metadata": {},
   "outputs": [
    {
     "name": "stdout",
     "output_type": "stream",
     "text": [
      "              precision    recall  f1-score   support\n",
      "\n",
      "           1       0.62      0.24      0.34     15280\n",
      "           2       0.31      0.27      0.29     17739\n",
      "           3       0.35      0.44      0.39     37687\n",
      "           4       0.43      0.63      0.51     58845\n",
      "           5       0.65      0.34      0.45     51382\n",
      "\n",
      "    accuracy                           0.44    180933\n",
      "   macro avg       0.47      0.38      0.40    180933\n",
      "weighted avg       0.48      0.44      0.43    180933\n",
      "\n",
      "[[ 3628  5402  4816  1285   149]\n",
      " [ 1270  4773  8195  3242   259]\n",
      " [  563  3368 16470 15836  1450]\n",
      " [  255  1205 12517 37293  7575]\n",
      " [  141   444  4539 28659 17599]]\n"
     ]
    }
   ],
   "source": [
    "import numpy as np\n",
    "from sklearn.metrics import classification_report, confusion_matrix\n",
    "\n",
    "y_pred_clipped = np.clip(np.round(y_pred), 1, 5).astype(int)\n",
    "\n",
    "print(classification_report(y_test, y_pred_clipped))\n",
    "print(confusion_matrix(y_test, y_pred_clipped))"
   ]
  },
  {
   "cell_type": "code",
   "execution_count": 29,
   "id": "23a2b571-6e12-4c05-b598-4ca04c9baa07",
   "metadata": {},
   "outputs": [
    {
     "data": {
      "image/png": "[encoded data removed]",
      "text/plain": [
       "<Figure size 800x500 with 2 Axes>"
      ]
     },
     "metadata": {},
     "output_type": "display_data"
    }
   ],
   "source": [
    "plt.figure(figsize=(8,5))\n",
    "sns.heatmap(confusion_matrix(y_test, y_pred_clipped), annot=True, fmt='d', cmap='YlGnBu')\n",
    "plt.show()"
   ]
  },
  {
   "cell_type": "markdown",
   "id": "7f69d018-aeef-43b3-89ed-02b1e3fb4b52",
   "metadata": {},
   "source": [
    "___\n",
    "After the adjustment done two cells above the model behavior still having deficiencies. So, I will keep the Logistic Regression and move with the next assignments."
   ]
  },
  {
   "cell_type": "code",
   "execution_count": null,
   "id": "dc25fcaa-2f8b-4172-aefa-b92f0e97a701",
   "metadata": {},
   "outputs": [],
   "source": []
  }
 ],
 "metadata": {
  "kernelspec": {
   "display_name": "Python 3 (ipykernel)",
   "language": "python",
   "name": "python3"
  },
  "language_info": {
   "codemirror_mode": {
    "name": "ipython",
    "version": 3
   },
   "file_extension": ".py",
   "mimetype": "text/x-python",
   "name": "python",
   "nbconvert_exporter": "python",
   "pygments_lexer": "ipython3",
   "version": "3.12.4"
  }
 },
 "nbformat": 4,
 "nbformat_minor": 5
}
